{
 "cells": [
  {
   "cell_type": "code",
   "execution_count": null,
   "metadata": {},
   "outputs": [
    {
     "ename": "",
     "evalue": "",
     "output_type": "error",
     "traceback": [
      "\u001b[1;31mFailed to start the Kernel. \n",
      "\u001b[1;31mThe kernel died. Error: ... View Jupyter <a href='command:jupyter.viewOutput'>log</a> for further details."
     ]
    }
   ],
   "source": [
    "import torch\n",
    "from diffusers import StableDiffusion3ControlNetPipeline, SD3ControlNetModel\n",
    "from diffusers.utils import load_image\n",
    "from diffusers.image_processor import VaeImageProcessor"
   ]
  },
  {
   "cell_type": "code",
   "execution_count": null,
   "metadata": {},
   "outputs": [],
   "source": [
    "class SD3CannyImageProcessor(VaeImageProcessor):\n",
    "    def __init__(self):\n",
    "        super().__init__(do_normalize=False)\n",
    "        \n",
    "    def preprocess(self, image, **kwargs):\n",
    "        image = super().preprocess(image, **kwargs)\n",
    "        image = image * 255 * 0.5 + 0.5\n",
    "        return image\n",
    "    \n",
    "    def postprocess(self, image, do_denormalize=True, **kwargs):\n",
    "        do_denormalize = [True] * image.shape[0]\n",
    "        image = super().postprocess(image, **kwargs, do_denormalize=do_denormalize)\n",
    "        return image"
   ]
  },
  {
   "cell_type": "code",
   "execution_count": null,
   "metadata": {},
   "outputs": [],
   "source": [
    "device = \"cuda\" if torch.cuda.is_available() else \"cpu\""
   ]
  },
  {
   "cell_type": "code",
   "execution_count": null,
   "metadata": {},
   "outputs": [],
   "source": [
    "controlnet = SD3ControlNetModel.from_pretrained(\n",
    "        \"stabilityai/stable-diffusion-3.5-large-controlnet-canny\",\n",
    "        torch_dtype=torch.float16\n",
    "    ).to(device)\n",
    "    \n",
    "pipe = StableDiffusion3ControlNetPipeline.from_pretrained(\n",
    "    \"stabilityai/stable-diffusion-3.5-large\",\n",
    "    controlnet=controlnet,\n",
    "    torch_dtype=torch.float16\n",
    ").to(device)\n",
    "pipe.image_processor = SD3CannyImageProcessor()"
   ]
  }
 ],
 "metadata": {
  "kernelspec": {
   "display_name": "badapple",
   "language": "python",
   "name": "python3"
  },
  "language_info": {
   "name": "python",
   "version": "3.12.9"
  }
 },
 "nbformat": 4,
 "nbformat_minor": 2
}
